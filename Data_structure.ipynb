{
  "nbformat": 4,
  "nbformat_minor": 0,
  "metadata": {
    "colab": {
      "provenance": []
    },
    "kernelspec": {
      "name": "python3",
      "display_name": "Python 3"
    },
    "language_info": {
      "name": "python"
    }
  },
  "cells": [
    {
      "cell_type": "markdown",
      "source": [
        "Theory Questions"
      ],
      "metadata": {
        "id": "QPdHuirNfy3j"
      }
    },
    {
      "cell_type": "code",
      "source": [
        "\n",
        "#1 What are data structures, and why are they important.\n",
        "#ans Data structure is a way to storing the data so that it can be accessed easily and manipulated efficiently.\n",
        "\n",
        "#2 Explain the difference between mutable and immutable data types with examples.\n",
        "#ans Mutable are those objects whose values can be changed after creation. e.g. list, dict, set.\n",
        "#    immutable are those objects whose values cannot be changed after creation. e.g. int, float, bool, str, tuple.\n",
        "\n",
        "#3 What are the main differences between lists and tuples in Python.\n",
        "#ans List - You can store anything in the list can store heterogeneous data also, list can be modified after creation\n",
        "#    Tuples - In tuples you can also store any type of data but turples are cannot be modified after creation.\n",
        "\n",
        "#4 Describe how dictionaries store data.\n",
        "#ans dictionaries which stores the data in the form of key value pairs only. e.g {\"course\" : \"da\"}\n",
        "\n",
        "#5 Why might you use a set instead of a list in Python.\n",
        "#ans A set and a list are both used to store collections of items, but sets automatically remove duplicate values, while lists allow duplicates Use case: When you need a collection of unique items.\n",
        "\n",
        "#6 What is a string in Python, and how is it different from a list.\n",
        "#ans String is a sequence of character represent and manipulated textual data. In string each characters are represented using numerical value. Use a string when working with text that doesn’t need modification because strings are immutable objects & Use a list when dealing with multiple elements that may change.\n",
        "\n",
        "#7 How do tuples ensure data integrity in Python.\n",
        "#ans A tuple in Python is an immutable sequence, meaning once it is created, its elements cannot be modified, added, or removed. This immutability helps ensure data integrity by preventing accidental changes.\n",
        "\n",
        "#8 What is a hash table, and how does it relate to dictionaries in Python.\n",
        "#ans A hash table (also called a hash map) is a data structure that stores key-value pairs. It uses a hash function to compute an index (hash code) for each key. Python's dictionary (dict) is built using a hash table, allowing for efficient key-based lookups.\n",
        "\n",
        "#9 Can lists contain different data types in Python.\n",
        "#ans Yes, you can store anything in the list can store heterogeneous data also, list can be modified after creation.\n",
        "\n",
        "#10 Explain why strings are immutable in Python.\n",
        "#ans Strings are immutable for memory efficiency, performance, hashability, and thread safety. Instead of modifying a string, Python creates a new string whenever changes are made.\n",
        "\n",
        "#11 What advantages do dictionaries offer over lists for certain tasks.\n",
        "#ans Use dictionaries when you need fast lookups, key-value storage, and unique identifiers. A dictionary allows direct access by key, making the code more readable. Use lists when you need ordered data, duplicates, or sequential processing.\n",
        "\n",
        "#12 Describe a scenario where using a tuple would be preferable over a list.\n",
        "#ans Use a tuple when data should not change. Imagine you're making a weather app. You need to store the names of the days of the week because they never change. Lists allow changes, which can lead to mistakes.\n",
        "\n",
        "#13 How do sets handle duplicate values in Python.\n",
        "#ans In Python, sets automatically remove duplicate values. If you add the same value multiple times, it will only be stored once in the set. Sets work like a collection of unique items, making them useful when you need to remove duplicates automatically.\n",
        "\n",
        "#14 How does the “in” keyword work differently for lists and dictionaries.\n",
        "#ans When used with lists, the \"in\" keyword checks if a given element is present as a value within the list.  When used with dictionaries, the \"in\" keyword checks if a given key is present within the dictionary.\n",
        "\n",
        "#15 Can you modify the elements of a tuple? Explain why or why not.\n",
        "#ans We cannot modify the element of a tuples because tuples are immutable.\n",
        "#Data Integrity: Immutability ensures that the data within a tuple remains constant throughout its lifespan, preventing accidental or unintended modifications.\n",
        "#Performance: Immutable objects can be optimized for performance by the Python interpreter, as they do not need to be checked for changes.\n",
        "#Hashability: Tuples, being immutable, can be used as keys in dictionaries and elements in sets, which require their keys and elements to be hashable (have a fixed hash value).\n",
        "\n",
        "#16 What is a nested dictionary, and give an example of its use case.\n",
        "#ans A nested dictionary is simply a dictionary that contains other dictionaries as values. This allows you to create hierarchical data structures to represent complex relationships.\n",
        "\n",
        "#Use case of dictionary\n",
        "#Imagine you want to store information about students in a class. You could use a nested dictionary where each key represents a student's name, and the value associated with that key is another dictionary containing the student's details like age, grade, and address.\n",
        "\n",
        "#17 Describe the time complexity of accessing elements in a dictionary.\n",
        "#ans Accessing elements in a dictionary using a key has an average time complexity of O(1), also known as constant time. This means that the time it takes to access an element does not depend on the size of the dictionary.\n",
        "\n",
        "#18 In what situations are lists preferred over dictionaries.\n",
        "#ans Lists are preferred over dictionaries when you need to store duplicate values, when you need to perform operation based on index & when you need to iterate through elements.\n",
        "\n",
        "#19 Why are dictionaries considered unordered, and how does that affect data retrieval.\n",
        "#ans Dictionaries are unordered collections but from phyton ner ver. 3.7 dictionaries retain the ordered this means that if you iterate ove a dic. the item will be returned in the ordered.\n",
        "\n",
        "#20 Explain the difference between a list and a dictionary in terms of data retrieval.\n",
        "#ans Data Retrieval: Lists use indexing for data retrieval. You access elements by their position within the list, starting from index 0 for the first element.\n",
        "#    Data Retrieval: Dictionaries use keys for data retrieval. You access values by providing their corresponding keys.\n",
        "\n",
        "#Therefore, if you need to access elements based on their position or need to maintain order, lists are preferable. However, if you need fast lookups by key and want to store data in a key-value structure, dictionaries are the better choice.\n"
      ],
      "metadata": {
        "id": "iEaUTYxH41H0"
      },
      "execution_count": null,
      "outputs": []
    },
    {
      "cell_type": "markdown",
      "source": [
        "Practical Questions"
      ],
      "metadata": {
        "id": "SOMPyxdb43T0"
      }
    },
    {
      "cell_type": "code",
      "source": [
        "#1 Write a code to create a string with your name and print it.\n",
        "\n",
        "a = \"Tarun\"\n",
        "print(a)"
      ],
      "metadata": {
        "colab": {
          "base_uri": "https://localhost:8080/"
        },
        "id": "Qm0L2J1lf2vJ",
        "outputId": "d638e8c4-9fd4-4ae1-c3ca-359033eff366"
      },
      "execution_count": null,
      "outputs": [
        {
          "output_type": "stream",
          "name": "stdout",
          "text": [
            "Tarun\n"
          ]
        }
      ]
    },
    {
      "cell_type": "code",
      "source": [
        "#2 Write a code to find the length of the string \"Hello World\".\n",
        "\n",
        "a = \"Hello World\"\n",
        "len(a)"
      ],
      "metadata": {
        "colab": {
          "base_uri": "https://localhost:8080/"
        },
        "id": "E45x9NPSgDHP",
        "outputId": "b40f13c6-2483-4ab9-b89c-858b715467a9"
      },
      "execution_count": null,
      "outputs": [
        {
          "output_type": "execute_result",
          "data": {
            "text/plain": [
              "11"
            ]
          },
          "metadata": {},
          "execution_count": 5
        }
      ]
    },
    {
      "cell_type": "code",
      "source": [
        "#3 Write a code to slice the first 3 characters from the string \"Python Programming\".\n",
        "\n",
        "a = \"Python Programming\"\n",
        "a[0:3:]"
      ],
      "metadata": {
        "colab": {
          "base_uri": "https://localhost:8080/",
          "height": 35
        },
        "id": "q4qwT4VbgQT8",
        "outputId": "e337fc8a-6404-42d1-e5ce-60d0cddd7f2f"
      },
      "execution_count": null,
      "outputs": [
        {
          "output_type": "execute_result",
          "data": {
            "text/plain": [
              "'Pyt'"
            ],
            "application/vnd.google.colaboratory.intrinsic+json": {
              "type": "string"
            }
          },
          "metadata": {},
          "execution_count": 15
        }
      ]
    },
    {
      "cell_type": "code",
      "source": [
        "#4 Write a code to convert the string \"hello\" to uppercase.\n",
        "\n",
        "a = \"hello\"\n",
        "a.upper()"
      ],
      "metadata": {
        "colab": {
          "base_uri": "https://localhost:8080/",
          "height": 35
        },
        "id": "xPRXjossgppQ",
        "outputId": "b8fb5d4f-98e8-4026-940c-440578b009ad"
      },
      "execution_count": null,
      "outputs": [
        {
          "output_type": "execute_result",
          "data": {
            "text/plain": [
              "'HELLO'"
            ],
            "application/vnd.google.colaboratory.intrinsic+json": {
              "type": "string"
            }
          },
          "metadata": {},
          "execution_count": 104
        }
      ]
    },
    {
      "cell_type": "code",
      "source": [
        "#5 Write a code to replace the word \"apple\" with \"orange\" in the string \"I like apple\".\n",
        "\n",
        "a = \"I like apple\"\n",
        "a.replace(\"apple\", \"orange\")"
      ],
      "metadata": {
        "colab": {
          "base_uri": "https://localhost:8080/",
          "height": 35
        },
        "id": "dcg5PRJPhvxc",
        "outputId": "da5a3858-e171-4bab-ea83-e90ab9d68c2d"
      },
      "execution_count": null,
      "outputs": [
        {
          "output_type": "execute_result",
          "data": {
            "text/plain": [
              "'I like orange'"
            ],
            "application/vnd.google.colaboratory.intrinsic+json": {
              "type": "string"
            }
          },
          "metadata": {},
          "execution_count": 21
        }
      ]
    },
    {
      "cell_type": "code",
      "source": [
        "#6 Write a code to create a list with numbers 1 to 5 and print it.\n",
        "\n",
        "a = list(range(5))\n",
        "print(a)"
      ],
      "metadata": {
        "colab": {
          "base_uri": "https://localhost:8080/"
        },
        "id": "IDALEUiDh-qY",
        "outputId": "b9ce4436-6d81-4677-ad10-66b35ab11633"
      },
      "execution_count": null,
      "outputs": [
        {
          "output_type": "stream",
          "name": "stdout",
          "text": [
            "[0, 1, 2, 3, 4]\n"
          ]
        }
      ]
    },
    {
      "cell_type": "code",
      "source": [
        "#7 Write a code to append the number 10 to the list [1, 2, 3, 4].\n",
        "list_1 = [1,2,3,4]\n",
        "list_1.append(10)\n",
        "print(list_1)"
      ],
      "metadata": {
        "colab": {
          "base_uri": "https://localhost:8080/"
        },
        "id": "s3ItTofjiueD",
        "outputId": "3994a0f2-632c-41b8-f0b7-334fba36e68b"
      },
      "execution_count": null,
      "outputs": [
        {
          "output_type": "stream",
          "name": "stdout",
          "text": [
            "[1, 2, 3, 4, 10]\n"
          ]
        }
      ]
    },
    {
      "cell_type": "code",
      "source": [
        "#8 Write a code to remove the number 3 from the list [1, 2, 3, 4, 5].\n",
        "list1 = [1, 2, 3, 4, 5]\n",
        "list1.remove(3)\n",
        "print(list1)"
      ],
      "metadata": {
        "colab": {
          "base_uri": "https://localhost:8080/"
        },
        "id": "GJsVroBFjry2",
        "outputId": "29d7ad59-bed1-4c6a-845a-a3876c57d33e"
      },
      "execution_count": null,
      "outputs": [
        {
          "output_type": "stream",
          "name": "stdout",
          "text": [
            "[1, 2, 4, 5]\n"
          ]
        }
      ]
    },
    {
      "cell_type": "code",
      "source": [
        "#9 Write a code to access the second element in the list ['a', 'b', 'c', 'd'].\n",
        "list1 = ['a', 'b', 'c', 'd']\n",
        "list1[1]"
      ],
      "metadata": {
        "colab": {
          "base_uri": "https://localhost:8080/",
          "height": 35
        },
        "id": "mjxOZNLjkP05",
        "outputId": "3e40a3b4-d3f0-42c2-f44c-351282e9b529"
      },
      "execution_count": null,
      "outputs": [
        {
          "output_type": "execute_result",
          "data": {
            "text/plain": [
              "'b'"
            ],
            "application/vnd.google.colaboratory.intrinsic+json": {
              "type": "string"
            }
          },
          "metadata": {},
          "execution_count": 32
        }
      ]
    },
    {
      "cell_type": "code",
      "source": [
        "#10 Write a code to reverse the list [10, 20, 30, 40, 50].\n",
        "list1 = [10, 20, 30, 40, 50]\n",
        "list1.reverse()\n",
        "print(list1)"
      ],
      "metadata": {
        "colab": {
          "base_uri": "https://localhost:8080/"
        },
        "id": "uvLszJU-khrG",
        "outputId": "a0503679-8063-42f7-f501-fbc85ed57ddf"
      },
      "execution_count": null,
      "outputs": [
        {
          "output_type": "stream",
          "name": "stdout",
          "text": [
            "[50, 40, 30, 20, 10]\n"
          ]
        }
      ]
    },
    {
      "cell_type": "code",
      "source": [
        "#11 Write a code to create a tuple with the elements 100, 200, 300 and print it.\n",
        "A = (100,200,300)\n",
        "print(A)"
      ],
      "metadata": {
        "colab": {
          "base_uri": "https://localhost:8080/"
        },
        "id": "KTQJTVw3kwk0",
        "outputId": "3fb17ca3-ea78-4e6a-bb11-b76bf5a5edf7"
      },
      "execution_count": null,
      "outputs": [
        {
          "output_type": "stream",
          "name": "stdout",
          "text": [
            "(100, 200, 300)\n"
          ]
        }
      ]
    },
    {
      "cell_type": "code",
      "source": [
        "#12 Write a code to access the second-to-last element of the tuple ('red', 'green', 'blue', 'yellow').\n",
        "\n",
        "tuple1 = ('red', 'green', 'blue', 'yellow')\n",
        "tuple1[-2]"
      ],
      "metadata": {
        "colab": {
          "base_uri": "https://localhost:8080/",
          "height": 35
        },
        "id": "tRBFve-Bk6bY",
        "outputId": "606a19f7-ec75-4cc5-89f3-7e5b68797aaa"
      },
      "execution_count": null,
      "outputs": [
        {
          "output_type": "execute_result",
          "data": {
            "text/plain": [
              "'blue'"
            ],
            "application/vnd.google.colaboratory.intrinsic+json": {
              "type": "string"
            }
          },
          "metadata": {},
          "execution_count": 39
        }
      ]
    },
    {
      "cell_type": "code",
      "source": [
        "#13 Write a code to find the minimum number in the tuple (10, 20, 5, 15).\n",
        "\n",
        "Tuple1 = (10,20,5,15)\n",
        "min(Tuple1)"
      ],
      "metadata": {
        "colab": {
          "base_uri": "https://localhost:8080/"
        },
        "id": "_4_h8c7tlaDe",
        "outputId": "14f83da0-b0a0-496d-c397-be169f6e1fce"
      },
      "execution_count": null,
      "outputs": [
        {
          "output_type": "execute_result",
          "data": {
            "text/plain": [
              "5"
            ]
          },
          "metadata": {},
          "execution_count": 40
        }
      ]
    },
    {
      "cell_type": "code",
      "source": [
        "#14 Write a code to find the index of the element \"cat\" in the tuple ('dog', 'cat', 'rabbit').\n",
        "\n",
        "tupl1 = ('dog', 'cat', 'rabbit')\n",
        "tupl1.index(\"cat\")"
      ],
      "metadata": {
        "colab": {
          "base_uri": "https://localhost:8080/"
        },
        "id": "Ik4jlK3glqV3",
        "outputId": "ac4c4bac-77ac-47c5-e1e3-a046e2d9e0ef"
      },
      "execution_count": null,
      "outputs": [
        {
          "output_type": "execute_result",
          "data": {
            "text/plain": [
              "1"
            ]
          },
          "metadata": {},
          "execution_count": 45
        }
      ]
    },
    {
      "cell_type": "code",
      "source": [
        "#15 Write a code to create a tuple containing three different fruits and check if \"kiwi\" is in it.\n",
        "tuple1 = (\"apple\", \"mango\", \"banana\")\n",
        "if \"kiwi\" in tuple1:\n",
        "  print(\"kiwi in my tuple1\")"
      ],
      "metadata": {
        "id": "9jokDxAnmPgS"
      },
      "execution_count": null,
      "outputs": []
    },
    {
      "cell_type": "code",
      "source": [
        "#16 Write a code to create a set with the elements 'a', 'b', 'c' and print it.\n",
        "\n",
        "s = {\"a\", \"b\", \"c\"}\n",
        "print(s)\n"
      ],
      "metadata": {
        "colab": {
          "base_uri": "https://localhost:8080/"
        },
        "id": "v1v4DyFGoImC",
        "outputId": "f5b1870f-1352-4f19-9191-e6c05b46d97c"
      },
      "execution_count": null,
      "outputs": [
        {
          "output_type": "stream",
          "name": "stdout",
          "text": [
            "{'a', 'c', 'b'}\n"
          ]
        }
      ]
    },
    {
      "cell_type": "code",
      "source": [
        "#17 write a code to clear all elements from the set {1, 2, 3, 4, 5}.\n",
        "s = {1,2,3,4,5}\n",
        "s.clear()\n",
        "print(s)"
      ],
      "metadata": {
        "colab": {
          "base_uri": "https://localhost:8080/"
        },
        "id": "fC_vwjjBqYw3",
        "outputId": "762289c3-a117-446a-a1e0-f7d578b43542"
      },
      "execution_count": null,
      "outputs": [
        {
          "output_type": "stream",
          "name": "stdout",
          "text": [
            "set()\n"
          ]
        }
      ]
    },
    {
      "cell_type": "code",
      "source": [
        "#18 Write a code to remove the element 4 from the set {1, 2, 3, 4}.\n",
        "\n",
        "s = {1,2,3,4}\n",
        "s.remove(4)\n",
        "print(s)"
      ],
      "metadata": {
        "colab": {
          "base_uri": "https://localhost:8080/"
        },
        "id": "hQzNyd0fqnuZ",
        "outputId": "3532e8b7-5299-4f28-a0e3-1c116da44db6"
      },
      "execution_count": null,
      "outputs": [
        {
          "output_type": "stream",
          "name": "stdout",
          "text": [
            "{1, 2, 3}\n"
          ]
        }
      ]
    },
    {
      "cell_type": "code",
      "source": [
        "#19 Write a code to find the union of two sets {1, 2, 3} and {3, 4, 5}.\n",
        "a = {1,2,3}\n",
        "b = {3,4,5}\n",
        "c = a|b\n",
        "print(c)"
      ],
      "metadata": {
        "colab": {
          "base_uri": "https://localhost:8080/"
        },
        "id": "GndJLZx9rG8N",
        "outputId": "4435383c-dbee-4ca7-9c6b-b1cda097a790"
      },
      "execution_count": null,
      "outputs": [
        {
          "output_type": "stream",
          "name": "stdout",
          "text": [
            "{1, 2, 3, 4, 5}\n"
          ]
        }
      ]
    },
    {
      "cell_type": "code",
      "source": [
        "#20 Write a code to find the intersection of two sets {1, 2, 3} and {2, 3, 4}.\n",
        "a = {1,2,3}\n",
        "b = {2,3,4}\n",
        "c = a&b\n",
        "print(c)"
      ],
      "metadata": {
        "colab": {
          "base_uri": "https://localhost:8080/"
        },
        "id": "7XmHMhXRre9l",
        "outputId": "1d2af28d-c671-4d36-e776-e46bec1fc1d9"
      },
      "execution_count": null,
      "outputs": [
        {
          "output_type": "stream",
          "name": "stdout",
          "text": [
            "{2, 3}\n"
          ]
        }
      ]
    },
    {
      "cell_type": "code",
      "source": [
        "#21 Write a code to create a dictionary with the keys \"name\", \"age\", and \"city\", and print it.\n",
        "dict_1 = {\"Name\":\"Tarun\", \"Age\": \"24\", \"City\": \"Ghaziabad\"}\n",
        "print(dict_1)"
      ],
      "metadata": {
        "colab": {
          "base_uri": "https://localhost:8080/"
        },
        "id": "4WhscXvqsCL3",
        "outputId": "d10ed3ec-cdff-4753-d376-b51d48d81a51"
      },
      "execution_count": null,
      "outputs": [
        {
          "output_type": "stream",
          "name": "stdout",
          "text": [
            "{'Name': 'Tarun', 'Age': '24', 'City': 'Ghaziabad'}\n"
          ]
        }
      ]
    },
    {
      "cell_type": "code",
      "source": [
        "#22 Write a code to add a new key-value pair \"country\": \"USA\" to the dictionary {'name': 'John', 'age': 25}.\n",
        "dict_1 = {'name': 'John', 'age': 25}\n",
        "dict_1[\"country\"] = \"USA\"\n",
        "print(dict_1)"
      ],
      "metadata": {
        "colab": {
          "base_uri": "https://localhost:8080/"
        },
        "id": "r9tGW2MJsuDr",
        "outputId": "cc8c3129-fc30-45ba-9f2e-7f96d0fc5211"
      },
      "execution_count": null,
      "outputs": [
        {
          "output_type": "stream",
          "name": "stdout",
          "text": [
            "{'name': 'John', 'age': 25, 'country': 'USA'}\n"
          ]
        }
      ]
    },
    {
      "cell_type": "code",
      "source": [
        "#23 Write a code to access the value associated with the key \"name\" in the dictionary {'name': 'Alice', 'age': 30}.\n",
        "\n",
        "dict_1 = {'name': 'Alice', 'age': 30}\n",
        "dict_1[\"name\"]"
      ],
      "metadata": {
        "colab": {
          "base_uri": "https://localhost:8080/",
          "height": 35
        },
        "id": "VG4CM6Gqtai5",
        "outputId": "f17851a2-c9a9-4865-c101-74755ec2e328"
      },
      "execution_count": null,
      "outputs": [
        {
          "output_type": "execute_result",
          "data": {
            "text/plain": [
              "'Alice'"
            ],
            "application/vnd.google.colaboratory.intrinsic+json": {
              "type": "string"
            }
          },
          "metadata": {},
          "execution_count": 80
        }
      ]
    },
    {
      "cell_type": "code",
      "source": [
        "#24 Write a code to remove the key \"age\" from the dictionary {'name': 'Bob', 'age': 22, 'city': 'New York'}.\n",
        "d = {'name': 'Bob', 'age': 22, 'city': 'New York'}\n",
        "d.pop(\"age\")\n",
        "print(d)"
      ],
      "metadata": {
        "colab": {
          "base_uri": "https://localhost:8080/"
        },
        "id": "HrZ7DHNpt1h6",
        "outputId": "79da52cc-e3b3-4a11-c141-98c78d269bd9"
      },
      "execution_count": null,
      "outputs": [
        {
          "output_type": "stream",
          "name": "stdout",
          "text": [
            "{'name': 'Bob', 'city': 'New York'}\n"
          ]
        }
      ]
    },
    {
      "cell_type": "code",
      "source": [
        "#25 Write a code to check if the key \"city\" exists in the dictionary {'name': 'Alice', 'city': 'Paris'}.\n",
        "d = {'name': 'Alice', 'city': 'Paris'}\n",
        "if \"city\" in d:\n",
        "  print(d)\n"
      ],
      "metadata": {
        "colab": {
          "base_uri": "https://localhost:8080/"
        },
        "id": "Q6sm389vukPl",
        "outputId": "278c3b39-9392-42db-cd3b-e6cf1ed375b6"
      },
      "execution_count": null,
      "outputs": [
        {
          "output_type": "stream",
          "name": "stdout",
          "text": [
            "{'name': 'Alice', 'city': 'Paris'}\n"
          ]
        }
      ]
    },
    {
      "cell_type": "code",
      "source": [
        "#26 Write a code to create a list, a tuple, and a dictionary, and print them.\n",
        "\n",
        "my_list = [1, 2, 3, \"apple\", \"banana\"]\n",
        "\n",
        "my_tuple = (10, 20, 30, \"orange\", \"grape\")\n",
        "\n",
        "my_dictionary = {\"name\": \"John\", \"age\": 30, \"city\": \"New York\"}\n",
        "\n",
        "print(my_list)\n",
        "print(my_tuple)\n",
        "print(my_dictionary)"
      ],
      "metadata": {
        "colab": {
          "base_uri": "https://localhost:8080/"
        },
        "id": "Co2VGhYku8dz",
        "outputId": "53b52da1-b7fa-47d5-f6a2-91053f0c9cc8"
      },
      "execution_count": null,
      "outputs": [
        {
          "output_type": "stream",
          "name": "stdout",
          "text": [
            "[1, 2, 3, 'apple', 'banana']\n",
            "(10, 20, 30, 'orange', 'grape')\n",
            "{'name': 'John', 'age': 30, 'city': 'New York'}\n"
          ]
        }
      ]
    },
    {
      "cell_type": "code",
      "source": [
        "#27 Write a code to create a list of 5 random numbers between 1 and 100, sort it in ascending order, and print the result.\n",
        "\n",
        "list_1 = [1,99,66,44,23]\n",
        "list_1.sort()\n",
        "print(list_1)"
      ],
      "metadata": {
        "colab": {
          "base_uri": "https://localhost:8080/"
        },
        "id": "b-yPm0fUwGNV",
        "outputId": "f7953735-11ad-4d7e-fd9f-55929c58686d"
      },
      "execution_count": null,
      "outputs": [
        {
          "output_type": "stream",
          "name": "stdout",
          "text": [
            "[1, 23, 44, 66, 99]\n"
          ]
        }
      ]
    },
    {
      "cell_type": "code",
      "source": [
        "#28 Write a code to create a list with strings and print the element at the third index.\n",
        "list_1 = [\"car\", \"bike\", \"truck\", \"plane\"]\n",
        "print(list_1[3])\n"
      ],
      "metadata": {
        "colab": {
          "base_uri": "https://localhost:8080/"
        },
        "id": "_N9yCeUhyWGl",
        "outputId": "584ba074-0690-4ac5-f230-94b184f5a9b3"
      },
      "execution_count": null,
      "outputs": [
        {
          "output_type": "stream",
          "name": "stdout",
          "text": [
            "plane\n"
          ]
        }
      ]
    },
    {
      "cell_type": "code",
      "source": [
        "#29 Write a code to combine two dictionaries into one and print the result.\n",
        "\n",
        "d = {\"course\" : [\"ds\", \"da\"]}\n",
        "d1 = {\"Name\" : \"Tarun\", \"Age\" : \"24\"}\n",
        "d.update(d1)\n",
        "print(d)"
      ],
      "metadata": {
        "colab": {
          "base_uri": "https://localhost:8080/"
        },
        "id": "tN-RdMp7zy63",
        "outputId": "06eba1d7-4299-4ffe-f241-57000fe37d3f"
      },
      "execution_count": null,
      "outputs": [
        {
          "output_type": "stream",
          "name": "stdout",
          "text": [
            "{'course': ['ds', 'da'], 'Name': 'Tarun', 'Age': '24'}\n"
          ]
        }
      ]
    },
    {
      "cell_type": "code",
      "source": [
        "#30 Write a code to convert a list of strings into a set.\n",
        "list_1 = [\"car\", \"bike\", \"truck\", \"plane\"]\n",
        "s = set(list_1)\n",
        "type(s)"
      ],
      "metadata": {
        "colab": {
          "base_uri": "https://localhost:8080/"
        },
        "id": "9iqGdjMX028e",
        "outputId": "fe170da1-58a4-4128-be9f-4e8ae22a8a00"
      },
      "execution_count": null,
      "outputs": [
        {
          "output_type": "execute_result",
          "data": {
            "text/plain": [
              "set"
            ]
          },
          "metadata": {},
          "execution_count": 102
        }
      ]
    },
    {
      "cell_type": "code",
      "source": [
        "s"
      ],
      "metadata": {
        "colab": {
          "base_uri": "https://localhost:8080/"
        },
        "id": "IILJymM21coB",
        "outputId": "6493ebf3-3e94-4644-bd17-2c081b409d6a"
      },
      "execution_count": null,
      "outputs": [
        {
          "output_type": "execute_result",
          "data": {
            "text/plain": [
              "{'bike', 'car', 'plane', 'truck'}"
            ]
          },
          "metadata": {},
          "execution_count": 103
        }
      ]
    },
    {
      "cell_type": "code",
      "source": [],
      "metadata": {
        "id": "JAvz8_cV1jGV"
      },
      "execution_count": null,
      "outputs": []
    }
  ]
}